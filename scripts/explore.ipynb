{
 "cells": [
  {
   "cell_type": "code",
   "execution_count": 1,
   "metadata": {},
   "outputs": [
    {
     "name": "stdout",
     "output_type": "stream",
     "text": [
      "/home/martijn_sturm/repos/ads-code\n"
     ]
    },
    {
     "data": {
      "text/plain": [
       "'/home/martijn_sturm/repos/ads-code'"
      ]
     },
     "execution_count": 1,
     "metadata": {},
     "output_type": "execute_result"
    }
   ],
   "source": [
    "%cd \"..\"\n",
    "%pwd"
   ]
  },
  {
   "cell_type": "code",
   "execution_count": 2,
   "metadata": {},
   "outputs": [],
   "source": [
    "import polars as pl\n",
    "import plotly.express as px\n",
    "from src import funs, columns\n",
    "\n"
   ]
  },
  {
   "cell_type": "code",
   "execution_count": 3,
   "metadata": {},
   "outputs": [],
   "source": [
    "df = pl.read_parquet(\"data/approved_properties.parquet\")"
   ]
  },
  {
   "cell_type": "code",
   "execution_count": 36,
   "metadata": {},
   "outputs": [
    {
     "data": {
      "text/html": [
       "col(\"molregno\").spearman_rank_correlation([col(\"first_approval\")])"
      ],
      "text/plain": [
       "<polars.expr.expr.Expr at 0x7f1451ca3610>"
      ]
     },
     "execution_count": 36,
     "metadata": {},
     "output_type": "execute_result"
    }
   ],
   "source": [
    "pl.corr(df.columns[0], df.columns[1], method=\"spearman\")"
   ]
  },
  {
   "cell_type": "code",
   "execution_count": 32,
   "metadata": {},
   "outputs": [
    {
     "data": {
      "text/html": [
       "<div><style>\n",
       ".dataframe > thead > tr > th,\n",
       ".dataframe > tbody > tr > td {\n",
       "  text-align: right;\n",
       "}\n",
       "</style>\n",
       "<small>shape: (14, 14)</small><table border=\"1\" class=\"dataframe\"><thead><tr><th>mw_freebase</th><th>full_mwt</th><th>mw_monoisotopic</th><th>alogp</th><th>cx_logp</th><th>psa</th><th>hba</th><th>hbd</th><th>hba_lipinski</th><th>hbd_lipinski</th><th>aromatic_rings</th><th>rtb</th><th>heavy_atoms</th><th>num_lipinski_ro5_violations</th></tr><tr><td>f64</td><td>f64</td><td>f64</td><td>f64</td><td>f64</td><td>f64</td><td>f64</td><td>f64</td><td>f64</td><td>f64</td><td>f64</td><td>f64</td><td>f64</td><td>f64</td></tr></thead><tbody><tr><td>1.0</td><td>0.84</td><td>1.0</td><td>0.35</td><td>0.21</td><td>0.6</td><td>0.7</td><td>0.33</td><td>0.72</td><td>0.28</td><td>0.38</td><td>0.57</td><td>0.96</td><td>0.75</td></tr><tr><td>0.84</td><td>1.0</td><td>0.84</td><td>0.27</td><td>0.13</td><td>0.51</td><td>0.6</td><td>0.32</td><td>0.61</td><td>0.28</td><td>0.33</td><td>0.5</td><td>0.81</td><td>0.65</td></tr><tr><td>1.0</td><td>0.84</td><td>1.0</td><td>0.35</td><td>0.21</td><td>0.6</td><td>0.71</td><td>0.33</td><td>0.72</td><td>0.28</td><td>0.38</td><td>0.57</td><td>0.96</td><td>0.75</td></tr><tr><td>0.35</td><td>0.27</td><td>0.35</td><td>1.0</td><td>0.84</td><td>-0.43</td><td>-0.25</td><td>-0.52</td><td>-0.3</td><td>-0.57</td><td>0.46</td><td>0.24</td><td>0.37</td><td>0.13</td></tr><tr><td>0.21</td><td>0.13</td><td>0.21</td><td>0.84</td><td>1.0</td><td>-0.43</td><td>-0.24</td><td>-0.48</td><td>-0.33</td><td>-0.52</td><td>0.39</td><td>0.11</td><td>0.22</td><td>0.01</td></tr><tr><td>0.6</td><td>0.51</td><td>0.6</td><td>-0.43</td><td>-0.43</td><td>1.0</td><td>0.87</td><td>0.81</td><td>0.94</td><td>0.81</td><td>0.05</td><td>0.35</td><td>0.58</td><td>0.61</td></tr><tr><td>0.7</td><td>0.6</td><td>0.71</td><td>-0.25</td><td>-0.24</td><td>0.87</td><td>1.0</td><td>0.57</td><td>0.94</td><td>0.55</td><td>0.19</td><td>0.41</td><td>0.71</td><td>0.63</td></tr><tr><td>0.33</td><td>0.32</td><td>0.33</td><td>-0.52</td><td>-0.48</td><td>0.81</td><td>0.57</td><td>1.0</td><td>0.65</td><td>0.97</td><td>-0.11</td><td>0.22</td><td>0.3</td><td>0.46</td></tr><tr><td>0.72</td><td>0.61</td><td>0.72</td><td>-0.3</td><td>-0.33</td><td>0.94</td><td>0.94</td><td>0.65</td><td>1.0</td><td>0.63</td><td>0.19</td><td>0.44</td><td>0.71</td><td>0.66</td></tr><tr><td>0.28</td><td>0.28</td><td>0.28</td><td>-0.57</td><td>-0.52</td><td>0.81</td><td>0.55</td><td>0.97</td><td>0.63</td><td>1.0</td><td>-0.12</td><td>0.19</td><td>0.25</td><td>0.44</td></tr><tr><td>0.38</td><td>0.33</td><td>0.38</td><td>0.46</td><td>0.39</td><td>0.05</td><td>0.19</td><td>-0.11</td><td>0.19</td><td>-0.12</td><td>1.0</td><td>0.2</td><td>0.42</td><td>0.24</td></tr><tr><td>0.57</td><td>0.5</td><td>0.57</td><td>0.24</td><td>0.11</td><td>0.35</td><td>0.41</td><td>0.22</td><td>0.44</td><td>0.19</td><td>0.2</td><td>1.0</td><td>0.57</td><td>0.49</td></tr><tr><td>0.96</td><td>0.81</td><td>0.96</td><td>0.37</td><td>0.22</td><td>0.58</td><td>0.71</td><td>0.3</td><td>0.71</td><td>0.25</td><td>0.42</td><td>0.57</td><td>1.0</td><td>0.72</td></tr><tr><td>0.75</td><td>0.65</td><td>0.75</td><td>0.13</td><td>0.01</td><td>0.61</td><td>0.63</td><td>0.46</td><td>0.66</td><td>0.44</td><td>0.24</td><td>0.49</td><td>0.72</td><td>1.0</td></tr></tbody></table></div>"
      ],
      "text/plain": [
       "shape: (14, 14)\n",
       "┌───────────┬──────────┬────────────┬───────┬───┬────────────┬──────┬───────────────┬──────────────┐\n",
       "│ mw_freeba ┆ full_mwt ┆ mw_monoiso ┆ alogp ┆ … ┆ aromatic_r ┆ rtb  ┆ heavy_atoms   ┆ num_lipinski │\n",
       "│ se        ┆ ---      ┆ topic      ┆ ---   ┆   ┆ ings       ┆ ---  ┆ ---           ┆ _ro5_violati │\n",
       "│ ---       ┆ f64      ┆ ---        ┆ f64   ┆   ┆ ---        ┆ f64  ┆ f64           ┆ ons          │\n",
       "│ f64       ┆          ┆ f64        ┆       ┆   ┆ f64        ┆      ┆               ┆ ---          │\n",
       "│           ┆          ┆            ┆       ┆   ┆            ┆      ┆               ┆ f64          │\n",
       "╞═══════════╪══════════╪════════════╪═══════╪═══╪════════════╪══════╪═══════════════╪══════════════╡\n",
       "│ 1.0       ┆ 0.84     ┆ 1.0        ┆ 0.35  ┆ … ┆ 0.38       ┆ 0.57 ┆ 0.96          ┆ 0.75         │\n",
       "│ 0.84      ┆ 1.0      ┆ 0.84       ┆ 0.27  ┆ … ┆ 0.33       ┆ 0.5  ┆ 0.81          ┆ 0.65         │\n",
       "│ 1.0       ┆ 0.84     ┆ 1.0        ┆ 0.35  ┆ … ┆ 0.38       ┆ 0.57 ┆ 0.96          ┆ 0.75         │\n",
       "│ 0.35      ┆ 0.27     ┆ 0.35       ┆ 1.0   ┆ … ┆ 0.46       ┆ 0.24 ┆ 0.37          ┆ 0.13         │\n",
       "│ …         ┆ …        ┆ …          ┆ …     ┆ … ┆ …          ┆ …    ┆ …             ┆ …            │\n",
       "│ 0.38      ┆ 0.33     ┆ 0.38       ┆ 0.46  ┆ … ┆ 1.0        ┆ 0.2  ┆ 0.42          ┆ 0.24         │\n",
       "│ 0.57      ┆ 0.5      ┆ 0.57       ┆ 0.24  ┆ … ┆ 0.2        ┆ 1.0  ┆ 0.57          ┆ 0.49         │\n",
       "│ 0.96      ┆ 0.81     ┆ 0.96       ┆ 0.37  ┆ … ┆ 0.42       ┆ 0.57 ┆ 1.0           ┆ 0.72         │\n",
       "│ 0.75      ┆ 0.65     ┆ 0.75       ┆ 0.13  ┆ … ┆ 0.24       ┆ 0.49 ┆ 0.72          ┆ 1.0          │\n",
       "└───────────┴──────────┴────────────┴───────┴───┴────────────┴──────┴───────────────┴──────────────┘"
      ]
     },
     "execution_count": 32,
     "metadata": {},
     "output_type": "execute_result"
    }
   ],
   "source": [
    "properties_correlation = df.select(columns.properties_table).drop_nulls().corr().select([pl.col(col).round(2).alias(col) for col in columns.properties_table])\n",
    "properties_correlation"
   ]
  },
  {
   "cell_type": "code",
   "execution_count": 40,
   "metadata": {},
   "outputs": [
    {
     "data": {
      "application/vnd.plotly.v1+json": {
       "config": {
        "plotlyServerURL": "https://plot.ly"
       },
       "data": [
        {
         "coloraxis": "coloraxis",
         "hovertemplate": "x: %{x}<br>y: %{y}<br>color: %{z}<extra></extra>",
         "name": "0",
         "texttemplate": "%{z}",
         "type": "heatmap",
         "x": [
          "mw_freebase",
          "full_mwt",
          "mw_monoisotopic",
          "alogp",
          "cx_logp",
          "psa",
          "hba",
          "hbd",
          "hba_lipinski",
          "hbd_lipinski",
          "aromatic_rings",
          "rtb",
          "heavy_atoms",
          "num_lipinski_ro5_violations"
         ],
         "xaxis": "x",
         "y": [
          "mw_freebase",
          "full_mwt",
          "mw_monoisotopic",
          "alogp",
          "cx_logp",
          "psa",
          "hba",
          "hbd",
          "hba_lipinski",
          "hbd_lipinski",
          "aromatic_rings",
          "rtb",
          "heavy_atoms",
          "num_lipinski_ro5_violations"
         ],
         "yaxis": "y",
         "z": [
          [
           1,
           0.84,
           1,
           0.35,
           0.21,
           0.6,
           0.7,
           0.33,
           0.72,
           0.28,
           0.38,
           0.57,
           0.96,
           0.75
          ],
          [
           0.84,
           1,
           0.84,
           0.27,
           0.13,
           0.51,
           0.6,
           0.32,
           0.61,
           0.28,
           0.33,
           0.5,
           0.81,
           0.65
          ],
          [
           1,
           0.84,
           1,
           0.35,
           0.21,
           0.6,
           0.71,
           0.33,
           0.72,
           0.28,
           0.38,
           0.57,
           0.96,
           0.75
          ],
          [
           0.35,
           0.27,
           0.35,
           1,
           0.84,
           -0.43,
           -0.25,
           -0.52,
           -0.3,
           -0.57,
           0.46,
           0.24,
           0.37,
           0.13
          ],
          [
           0.21,
           0.13,
           0.21,
           0.84,
           1,
           -0.43,
           -0.24,
           -0.48,
           -0.33,
           -0.52,
           0.39,
           0.11,
           0.22,
           0.01
          ],
          [
           0.6,
           0.51,
           0.6,
           -0.43,
           -0.43,
           1,
           0.87,
           0.81,
           0.94,
           0.81,
           0.05,
           0.35,
           0.58,
           0.61
          ],
          [
           0.7,
           0.6,
           0.71,
           -0.25,
           -0.24,
           0.87,
           1,
           0.57,
           0.94,
           0.55,
           0.19,
           0.41,
           0.71,
           0.63
          ],
          [
           0.33,
           0.32,
           0.33,
           -0.52,
           -0.48,
           0.81,
           0.57,
           1,
           0.65,
           0.97,
           -0.11,
           0.22,
           0.3,
           0.46
          ],
          [
           0.72,
           0.61,
           0.72,
           -0.3,
           -0.33,
           0.94,
           0.94,
           0.65,
           1,
           0.63,
           0.19,
           0.44,
           0.71,
           0.66
          ],
          [
           0.28,
           0.28,
           0.28,
           -0.57,
           -0.52,
           0.81,
           0.55,
           0.97,
           0.63,
           1,
           -0.12,
           0.19,
           0.25,
           0.44
          ],
          [
           0.38,
           0.33,
           0.38,
           0.46,
           0.39,
           0.05,
           0.19,
           -0.11,
           0.19,
           -0.12,
           1,
           0.2,
           0.42,
           0.24
          ],
          [
           0.57,
           0.5,
           0.57,
           0.24,
           0.11,
           0.35,
           0.41,
           0.22,
           0.44,
           0.19,
           0.2,
           1,
           0.57,
           0.49
          ],
          [
           0.96,
           0.81,
           0.96,
           0.37,
           0.22,
           0.58,
           0.71,
           0.3,
           0.71,
           0.25,
           0.42,
           0.57,
           1,
           0.72
          ],
          [
           0.75,
           0.65,
           0.75,
           0.13,
           0.01,
           0.61,
           0.63,
           0.46,
           0.66,
           0.44,
           0.24,
           0.49,
           0.72,
           1
          ]
         ]
        }
       ],
       "layout": {
        "coloraxis": {
         "cmax": 1,
         "cmin": -1,
         "colorscale": [
          [
           0,
           "rgb(5,48,97)"
          ],
          [
           0.1,
           "rgb(33,102,172)"
          ],
          [
           0.2,
           "rgb(67,147,195)"
          ],
          [
           0.3,
           "rgb(146,197,222)"
          ],
          [
           0.4,
           "rgb(209,229,240)"
          ],
          [
           0.5,
           "rgb(247,247,247)"
          ],
          [
           0.6,
           "rgb(253,219,199)"
          ],
          [
           0.7,
           "rgb(244,165,130)"
          ],
          [
           0.8,
           "rgb(214,96,77)"
          ],
          [
           0.9,
           "rgb(178,24,43)"
          ],
          [
           1,
           "rgb(103,0,31)"
          ]
         ]
        },
        "template": {
         "data": {
          "bar": [
           {
            "error_x": {
             "color": "#2a3f5f"
            },
            "error_y": {
             "color": "#2a3f5f"
            },
            "marker": {
             "line": {
              "color": "#E5ECF6",
              "width": 0.5
             },
             "pattern": {
              "fillmode": "overlay",
              "size": 10,
              "solidity": 0.2
             }
            },
            "type": "bar"
           }
          ],
          "barpolar": [
           {
            "marker": {
             "line": {
              "color": "#E5ECF6",
              "width": 0.5
             },
             "pattern": {
              "fillmode": "overlay",
              "size": 10,
              "solidity": 0.2
             }
            },
            "type": "barpolar"
           }
          ],
          "carpet": [
           {
            "aaxis": {
             "endlinecolor": "#2a3f5f",
             "gridcolor": "white",
             "linecolor": "white",
             "minorgridcolor": "white",
             "startlinecolor": "#2a3f5f"
            },
            "baxis": {
             "endlinecolor": "#2a3f5f",
             "gridcolor": "white",
             "linecolor": "white",
             "minorgridcolor": "white",
             "startlinecolor": "#2a3f5f"
            },
            "type": "carpet"
           }
          ],
          "choropleth": [
           {
            "colorbar": {
             "outlinewidth": 0,
             "ticks": ""
            },
            "type": "choropleth"
           }
          ],
          "contour": [
           {
            "colorbar": {
             "outlinewidth": 0,
             "ticks": ""
            },
            "colorscale": [
             [
              0,
              "#0d0887"
             ],
             [
              0.1111111111111111,
              "#46039f"
             ],
             [
              0.2222222222222222,
              "#7201a8"
             ],
             [
              0.3333333333333333,
              "#9c179e"
             ],
             [
              0.4444444444444444,
              "#bd3786"
             ],
             [
              0.5555555555555556,
              "#d8576b"
             ],
             [
              0.6666666666666666,
              "#ed7953"
             ],
             [
              0.7777777777777778,
              "#fb9f3a"
             ],
             [
              0.8888888888888888,
              "#fdca26"
             ],
             [
              1,
              "#f0f921"
             ]
            ],
            "type": "contour"
           }
          ],
          "contourcarpet": [
           {
            "colorbar": {
             "outlinewidth": 0,
             "ticks": ""
            },
            "type": "contourcarpet"
           }
          ],
          "heatmap": [
           {
            "colorbar": {
             "outlinewidth": 0,
             "ticks": ""
            },
            "colorscale": [
             [
              0,
              "#0d0887"
             ],
             [
              0.1111111111111111,
              "#46039f"
             ],
             [
              0.2222222222222222,
              "#7201a8"
             ],
             [
              0.3333333333333333,
              "#9c179e"
             ],
             [
              0.4444444444444444,
              "#bd3786"
             ],
             [
              0.5555555555555556,
              "#d8576b"
             ],
             [
              0.6666666666666666,
              "#ed7953"
             ],
             [
              0.7777777777777778,
              "#fb9f3a"
             ],
             [
              0.8888888888888888,
              "#fdca26"
             ],
             [
              1,
              "#f0f921"
             ]
            ],
            "type": "heatmap"
           }
          ],
          "heatmapgl": [
           {
            "colorbar": {
             "outlinewidth": 0,
             "ticks": ""
            },
            "colorscale": [
             [
              0,
              "#0d0887"
             ],
             [
              0.1111111111111111,
              "#46039f"
             ],
             [
              0.2222222222222222,
              "#7201a8"
             ],
             [
              0.3333333333333333,
              "#9c179e"
             ],
             [
              0.4444444444444444,
              "#bd3786"
             ],
             [
              0.5555555555555556,
              "#d8576b"
             ],
             [
              0.6666666666666666,
              "#ed7953"
             ],
             [
              0.7777777777777778,
              "#fb9f3a"
             ],
             [
              0.8888888888888888,
              "#fdca26"
             ],
             [
              1,
              "#f0f921"
             ]
            ],
            "type": "heatmapgl"
           }
          ],
          "histogram": [
           {
            "marker": {
             "pattern": {
              "fillmode": "overlay",
              "size": 10,
              "solidity": 0.2
             }
            },
            "type": "histogram"
           }
          ],
          "histogram2d": [
           {
            "colorbar": {
             "outlinewidth": 0,
             "ticks": ""
            },
            "colorscale": [
             [
              0,
              "#0d0887"
             ],
             [
              0.1111111111111111,
              "#46039f"
             ],
             [
              0.2222222222222222,
              "#7201a8"
             ],
             [
              0.3333333333333333,
              "#9c179e"
             ],
             [
              0.4444444444444444,
              "#bd3786"
             ],
             [
              0.5555555555555556,
              "#d8576b"
             ],
             [
              0.6666666666666666,
              "#ed7953"
             ],
             [
              0.7777777777777778,
              "#fb9f3a"
             ],
             [
              0.8888888888888888,
              "#fdca26"
             ],
             [
              1,
              "#f0f921"
             ]
            ],
            "type": "histogram2d"
           }
          ],
          "histogram2dcontour": [
           {
            "colorbar": {
             "outlinewidth": 0,
             "ticks": ""
            },
            "colorscale": [
             [
              0,
              "#0d0887"
             ],
             [
              0.1111111111111111,
              "#46039f"
             ],
             [
              0.2222222222222222,
              "#7201a8"
             ],
             [
              0.3333333333333333,
              "#9c179e"
             ],
             [
              0.4444444444444444,
              "#bd3786"
             ],
             [
              0.5555555555555556,
              "#d8576b"
             ],
             [
              0.6666666666666666,
              "#ed7953"
             ],
             [
              0.7777777777777778,
              "#fb9f3a"
             ],
             [
              0.8888888888888888,
              "#fdca26"
             ],
             [
              1,
              "#f0f921"
             ]
            ],
            "type": "histogram2dcontour"
           }
          ],
          "mesh3d": [
           {
            "colorbar": {
             "outlinewidth": 0,
             "ticks": ""
            },
            "type": "mesh3d"
           }
          ],
          "parcoords": [
           {
            "line": {
             "colorbar": {
              "outlinewidth": 0,
              "ticks": ""
             }
            },
            "type": "parcoords"
           }
          ],
          "pie": [
           {
            "automargin": true,
            "type": "pie"
           }
          ],
          "scatter": [
           {
            "fillpattern": {
             "fillmode": "overlay",
             "size": 10,
             "solidity": 0.2
            },
            "type": "scatter"
           }
          ],
          "scatter3d": [
           {
            "line": {
             "colorbar": {
              "outlinewidth": 0,
              "ticks": ""
             }
            },
            "marker": {
             "colorbar": {
              "outlinewidth": 0,
              "ticks": ""
             }
            },
            "type": "scatter3d"
           }
          ],
          "scattercarpet": [
           {
            "marker": {
             "colorbar": {
              "outlinewidth": 0,
              "ticks": ""
             }
            },
            "type": "scattercarpet"
           }
          ],
          "scattergeo": [
           {
            "marker": {
             "colorbar": {
              "outlinewidth": 0,
              "ticks": ""
             }
            },
            "type": "scattergeo"
           }
          ],
          "scattergl": [
           {
            "marker": {
             "colorbar": {
              "outlinewidth": 0,
              "ticks": ""
             }
            },
            "type": "scattergl"
           }
          ],
          "scattermapbox": [
           {
            "marker": {
             "colorbar": {
              "outlinewidth": 0,
              "ticks": ""
             }
            },
            "type": "scattermapbox"
           }
          ],
          "scatterpolar": [
           {
            "marker": {
             "colorbar": {
              "outlinewidth": 0,
              "ticks": ""
             }
            },
            "type": "scatterpolar"
           }
          ],
          "scatterpolargl": [
           {
            "marker": {
             "colorbar": {
              "outlinewidth": 0,
              "ticks": ""
             }
            },
            "type": "scatterpolargl"
           }
          ],
          "scatterternary": [
           {
            "marker": {
             "colorbar": {
              "outlinewidth": 0,
              "ticks": ""
             }
            },
            "type": "scatterternary"
           }
          ],
          "surface": [
           {
            "colorbar": {
             "outlinewidth": 0,
             "ticks": ""
            },
            "colorscale": [
             [
              0,
              "#0d0887"
             ],
             [
              0.1111111111111111,
              "#46039f"
             ],
             [
              0.2222222222222222,
              "#7201a8"
             ],
             [
              0.3333333333333333,
              "#9c179e"
             ],
             [
              0.4444444444444444,
              "#bd3786"
             ],
             [
              0.5555555555555556,
              "#d8576b"
             ],
             [
              0.6666666666666666,
              "#ed7953"
             ],
             [
              0.7777777777777778,
              "#fb9f3a"
             ],
             [
              0.8888888888888888,
              "#fdca26"
             ],
             [
              1,
              "#f0f921"
             ]
            ],
            "type": "surface"
           }
          ],
          "table": [
           {
            "cells": {
             "fill": {
              "color": "#EBF0F8"
             },
             "line": {
              "color": "white"
             }
            },
            "header": {
             "fill": {
              "color": "#C8D4E3"
             },
             "line": {
              "color": "white"
             }
            },
            "type": "table"
           }
          ]
         },
         "layout": {
          "annotationdefaults": {
           "arrowcolor": "#2a3f5f",
           "arrowhead": 0,
           "arrowwidth": 1
          },
          "autotypenumbers": "strict",
          "coloraxis": {
           "colorbar": {
            "outlinewidth": 0,
            "ticks": ""
           }
          },
          "colorscale": {
           "diverging": [
            [
             0,
             "#8e0152"
            ],
            [
             0.1,
             "#c51b7d"
            ],
            [
             0.2,
             "#de77ae"
            ],
            [
             0.3,
             "#f1b6da"
            ],
            [
             0.4,
             "#fde0ef"
            ],
            [
             0.5,
             "#f7f7f7"
            ],
            [
             0.6,
             "#e6f5d0"
            ],
            [
             0.7,
             "#b8e186"
            ],
            [
             0.8,
             "#7fbc41"
            ],
            [
             0.9,
             "#4d9221"
            ],
            [
             1,
             "#276419"
            ]
           ],
           "sequential": [
            [
             0,
             "#0d0887"
            ],
            [
             0.1111111111111111,
             "#46039f"
            ],
            [
             0.2222222222222222,
             "#7201a8"
            ],
            [
             0.3333333333333333,
             "#9c179e"
            ],
            [
             0.4444444444444444,
             "#bd3786"
            ],
            [
             0.5555555555555556,
             "#d8576b"
            ],
            [
             0.6666666666666666,
             "#ed7953"
            ],
            [
             0.7777777777777778,
             "#fb9f3a"
            ],
            [
             0.8888888888888888,
             "#fdca26"
            ],
            [
             1,
             "#f0f921"
            ]
           ],
           "sequentialminus": [
            [
             0,
             "#0d0887"
            ],
            [
             0.1111111111111111,
             "#46039f"
            ],
            [
             0.2222222222222222,
             "#7201a8"
            ],
            [
             0.3333333333333333,
             "#9c179e"
            ],
            [
             0.4444444444444444,
             "#bd3786"
            ],
            [
             0.5555555555555556,
             "#d8576b"
            ],
            [
             0.6666666666666666,
             "#ed7953"
            ],
            [
             0.7777777777777778,
             "#fb9f3a"
            ],
            [
             0.8888888888888888,
             "#fdca26"
            ],
            [
             1,
             "#f0f921"
            ]
           ]
          },
          "colorway": [
           "#636efa",
           "#EF553B",
           "#00cc96",
           "#ab63fa",
           "#FFA15A",
           "#19d3f3",
           "#FF6692",
           "#B6E880",
           "#FF97FF",
           "#FECB52"
          ],
          "font": {
           "color": "#2a3f5f"
          },
          "geo": {
           "bgcolor": "white",
           "lakecolor": "white",
           "landcolor": "#E5ECF6",
           "showlakes": true,
           "showland": true,
           "subunitcolor": "white"
          },
          "hoverlabel": {
           "align": "left"
          },
          "hovermode": "closest",
          "mapbox": {
           "style": "light"
          },
          "paper_bgcolor": "white",
          "plot_bgcolor": "#E5ECF6",
          "polar": {
           "angularaxis": {
            "gridcolor": "white",
            "linecolor": "white",
            "ticks": ""
           },
           "bgcolor": "#E5ECF6",
           "radialaxis": {
            "gridcolor": "white",
            "linecolor": "white",
            "ticks": ""
           }
          },
          "scene": {
           "xaxis": {
            "backgroundcolor": "#E5ECF6",
            "gridcolor": "white",
            "gridwidth": 2,
            "linecolor": "white",
            "showbackground": true,
            "ticks": "",
            "zerolinecolor": "white"
           },
           "yaxis": {
            "backgroundcolor": "#E5ECF6",
            "gridcolor": "white",
            "gridwidth": 2,
            "linecolor": "white",
            "showbackground": true,
            "ticks": "",
            "zerolinecolor": "white"
           },
           "zaxis": {
            "backgroundcolor": "#E5ECF6",
            "gridcolor": "white",
            "gridwidth": 2,
            "linecolor": "white",
            "showbackground": true,
            "ticks": "",
            "zerolinecolor": "white"
           }
          },
          "shapedefaults": {
           "line": {
            "color": "#2a3f5f"
           }
          },
          "ternary": {
           "aaxis": {
            "gridcolor": "white",
            "linecolor": "white",
            "ticks": ""
           },
           "baxis": {
            "gridcolor": "white",
            "linecolor": "white",
            "ticks": ""
           },
           "bgcolor": "#E5ECF6",
           "caxis": {
            "gridcolor": "white",
            "linecolor": "white",
            "ticks": ""
           }
          },
          "title": {
           "x": 0.05
          },
          "xaxis": {
           "automargin": true,
           "gridcolor": "white",
           "linecolor": "white",
           "ticks": "",
           "title": {
            "standoff": 15
           },
           "zerolinecolor": "white",
           "zerolinewidth": 2
          },
          "yaxis": {
           "automargin": true,
           "gridcolor": "white",
           "linecolor": "white",
           "ticks": "",
           "title": {
            "standoff": 15
           },
           "zerolinecolor": "white",
           "zerolinewidth": 2
          }
         }
        },
        "title": {
         "text": "Pearson Correlation Properties"
        },
        "xaxis": {
         "anchor": "y",
         "constrain": "domain",
         "domain": [
          0,
          1
         ],
         "scaleanchor": "y"
        },
        "yaxis": {
         "anchor": "x",
         "autorange": "reversed",
         "constrain": "domain",
         "domain": [
          0,
          1
         ]
        }
       }
      },
      "text/html": [
       "<div>                            <div id=\"aeed84ea-3e91-4f7a-8f2a-5b1aadf7f440\" class=\"plotly-graph-div\" style=\"height:525px; width:100%;\"></div>            <script type=\"text/javascript\">                require([\"plotly\"], function(Plotly) {                    window.PLOTLYENV=window.PLOTLYENV || {};                                    if (document.getElementById(\"aeed84ea-3e91-4f7a-8f2a-5b1aadf7f440\")) {                    Plotly.newPlot(                        \"aeed84ea-3e91-4f7a-8f2a-5b1aadf7f440\",                        [{\"coloraxis\":\"coloraxis\",\"name\":\"0\",\"texttemplate\":\"%{z}\",\"x\":[\"mw_freebase\",\"full_mwt\",\"mw_monoisotopic\",\"alogp\",\"cx_logp\",\"psa\",\"hba\",\"hbd\",\"hba_lipinski\",\"hbd_lipinski\",\"aromatic_rings\",\"rtb\",\"heavy_atoms\",\"num_lipinski_ro5_violations\"],\"y\":[\"mw_freebase\",\"full_mwt\",\"mw_monoisotopic\",\"alogp\",\"cx_logp\",\"psa\",\"hba\",\"hbd\",\"hba_lipinski\",\"hbd_lipinski\",\"aromatic_rings\",\"rtb\",\"heavy_atoms\",\"num_lipinski_ro5_violations\"],\"z\":[[1.0,0.84,1.0,0.35,0.21,0.6,0.7,0.33,0.72,0.28,0.38,0.57,0.96,0.75],[0.84,1.0,0.84,0.27,0.13,0.51,0.6,0.32,0.61,0.28,0.33,0.5,0.81,0.65],[1.0,0.84,1.0,0.35,0.21,0.6,0.71,0.33,0.72,0.28,0.38,0.57,0.96,0.75],[0.35,0.27,0.35,1.0,0.84,-0.43,-0.25,-0.52,-0.3,-0.57,0.46,0.24,0.37,0.13],[0.21,0.13,0.21,0.84,1.0,-0.43,-0.24,-0.48,-0.33,-0.52,0.39,0.11,0.22,0.01],[0.6,0.51,0.6,-0.43,-0.43,1.0,0.87,0.81,0.94,0.81,0.05,0.35,0.58,0.61],[0.7,0.6,0.71,-0.25,-0.24,0.87,1.0,0.57,0.94,0.55,0.19,0.41,0.71,0.63],[0.33,0.32,0.33,-0.52,-0.48,0.81,0.57,1.0,0.65,0.97,-0.11,0.22,0.3,0.46],[0.72,0.61,0.72,-0.3,-0.33,0.94,0.94,0.65,1.0,0.63,0.19,0.44,0.71,0.66],[0.28,0.28,0.28,-0.57,-0.52,0.81,0.55,0.97,0.63,1.0,-0.12,0.19,0.25,0.44],[0.38,0.33,0.38,0.46,0.39,0.05,0.19,-0.11,0.19,-0.12,1.0,0.2,0.42,0.24],[0.57,0.5,0.57,0.24,0.11,0.35,0.41,0.22,0.44,0.19,0.2,1.0,0.57,0.49],[0.96,0.81,0.96,0.37,0.22,0.58,0.71,0.3,0.71,0.25,0.42,0.57,1.0,0.72],[0.75,0.65,0.75,0.13,0.01,0.61,0.63,0.46,0.66,0.44,0.24,0.49,0.72,1.0]],\"type\":\"heatmap\",\"xaxis\":\"x\",\"yaxis\":\"y\",\"hovertemplate\":\"x: %{x}<br>y: %{y}<br>color: %{z}<extra></extra>\"}],                        {\"template\":{\"data\":{\"histogram2dcontour\":[{\"type\":\"histogram2dcontour\",\"colorbar\":{\"outlinewidth\":0,\"ticks\":\"\"},\"colorscale\":[[0.0,\"#0d0887\"],[0.1111111111111111,\"#46039f\"],[0.2222222222222222,\"#7201a8\"],[0.3333333333333333,\"#9c179e\"],[0.4444444444444444,\"#bd3786\"],[0.5555555555555556,\"#d8576b\"],[0.6666666666666666,\"#ed7953\"],[0.7777777777777778,\"#fb9f3a\"],[0.8888888888888888,\"#fdca26\"],[1.0,\"#f0f921\"]]}],\"choropleth\":[{\"type\":\"choropleth\",\"colorbar\":{\"outlinewidth\":0,\"ticks\":\"\"}}],\"histogram2d\":[{\"type\":\"histogram2d\",\"colorbar\":{\"outlinewidth\":0,\"ticks\":\"\"},\"colorscale\":[[0.0,\"#0d0887\"],[0.1111111111111111,\"#46039f\"],[0.2222222222222222,\"#7201a8\"],[0.3333333333333333,\"#9c179e\"],[0.4444444444444444,\"#bd3786\"],[0.5555555555555556,\"#d8576b\"],[0.6666666666666666,\"#ed7953\"],[0.7777777777777778,\"#fb9f3a\"],[0.8888888888888888,\"#fdca26\"],[1.0,\"#f0f921\"]]}],\"heatmap\":[{\"type\":\"heatmap\",\"colorbar\":{\"outlinewidth\":0,\"ticks\":\"\"},\"colorscale\":[[0.0,\"#0d0887\"],[0.1111111111111111,\"#46039f\"],[0.2222222222222222,\"#7201a8\"],[0.3333333333333333,\"#9c179e\"],[0.4444444444444444,\"#bd3786\"],[0.5555555555555556,\"#d8576b\"],[0.6666666666666666,\"#ed7953\"],[0.7777777777777778,\"#fb9f3a\"],[0.8888888888888888,\"#fdca26\"],[1.0,\"#f0f921\"]]}],\"heatmapgl\":[{\"type\":\"heatmapgl\",\"colorbar\":{\"outlinewidth\":0,\"ticks\":\"\"},\"colorscale\":[[0.0,\"#0d0887\"],[0.1111111111111111,\"#46039f\"],[0.2222222222222222,\"#7201a8\"],[0.3333333333333333,\"#9c179e\"],[0.4444444444444444,\"#bd3786\"],[0.5555555555555556,\"#d8576b\"],[0.6666666666666666,\"#ed7953\"],[0.7777777777777778,\"#fb9f3a\"],[0.8888888888888888,\"#fdca26\"],[1.0,\"#f0f921\"]]}],\"contourcarpet\":[{\"type\":\"contourcarpet\",\"colorbar\":{\"outlinewidth\":0,\"ticks\":\"\"}}],\"contour\":[{\"type\":\"contour\",\"colorbar\":{\"outlinewidth\":0,\"ticks\":\"\"},\"colorscale\":[[0.0,\"#0d0887\"],[0.1111111111111111,\"#46039f\"],[0.2222222222222222,\"#7201a8\"],[0.3333333333333333,\"#9c179e\"],[0.4444444444444444,\"#bd3786\"],[0.5555555555555556,\"#d8576b\"],[0.6666666666666666,\"#ed7953\"],[0.7777777777777778,\"#fb9f3a\"],[0.8888888888888888,\"#fdca26\"],[1.0,\"#f0f921\"]]}],\"surface\":[{\"type\":\"surface\",\"colorbar\":{\"outlinewidth\":0,\"ticks\":\"\"},\"colorscale\":[[0.0,\"#0d0887\"],[0.1111111111111111,\"#46039f\"],[0.2222222222222222,\"#7201a8\"],[0.3333333333333333,\"#9c179e\"],[0.4444444444444444,\"#bd3786\"],[0.5555555555555556,\"#d8576b\"],[0.6666666666666666,\"#ed7953\"],[0.7777777777777778,\"#fb9f3a\"],[0.8888888888888888,\"#fdca26\"],[1.0,\"#f0f921\"]]}],\"mesh3d\":[{\"type\":\"mesh3d\",\"colorbar\":{\"outlinewidth\":0,\"ticks\":\"\"}}],\"scatter\":[{\"fillpattern\":{\"fillmode\":\"overlay\",\"size\":10,\"solidity\":0.2},\"type\":\"scatter\"}],\"parcoords\":[{\"type\":\"parcoords\",\"line\":{\"colorbar\":{\"outlinewidth\":0,\"ticks\":\"\"}}}],\"scatterpolargl\":[{\"type\":\"scatterpolargl\",\"marker\":{\"colorbar\":{\"outlinewidth\":0,\"ticks\":\"\"}}}],\"bar\":[{\"error_x\":{\"color\":\"#2a3f5f\"},\"error_y\":{\"color\":\"#2a3f5f\"},\"marker\":{\"line\":{\"color\":\"#E5ECF6\",\"width\":0.5},\"pattern\":{\"fillmode\":\"overlay\",\"size\":10,\"solidity\":0.2}},\"type\":\"bar\"}],\"scattergeo\":[{\"type\":\"scattergeo\",\"marker\":{\"colorbar\":{\"outlinewidth\":0,\"ticks\":\"\"}}}],\"scatterpolar\":[{\"type\":\"scatterpolar\",\"marker\":{\"colorbar\":{\"outlinewidth\":0,\"ticks\":\"\"}}}],\"histogram\":[{\"marker\":{\"pattern\":{\"fillmode\":\"overlay\",\"size\":10,\"solidity\":0.2}},\"type\":\"histogram\"}],\"scattergl\":[{\"type\":\"scattergl\",\"marker\":{\"colorbar\":{\"outlinewidth\":0,\"ticks\":\"\"}}}],\"scatter3d\":[{\"type\":\"scatter3d\",\"line\":{\"colorbar\":{\"outlinewidth\":0,\"ticks\":\"\"}},\"marker\":{\"colorbar\":{\"outlinewidth\":0,\"ticks\":\"\"}}}],\"scattermapbox\":[{\"type\":\"scattermapbox\",\"marker\":{\"colorbar\":{\"outlinewidth\":0,\"ticks\":\"\"}}}],\"scatterternary\":[{\"type\":\"scatterternary\",\"marker\":{\"colorbar\":{\"outlinewidth\":0,\"ticks\":\"\"}}}],\"scattercarpet\":[{\"type\":\"scattercarpet\",\"marker\":{\"colorbar\":{\"outlinewidth\":0,\"ticks\":\"\"}}}],\"carpet\":[{\"aaxis\":{\"endlinecolor\":\"#2a3f5f\",\"gridcolor\":\"white\",\"linecolor\":\"white\",\"minorgridcolor\":\"white\",\"startlinecolor\":\"#2a3f5f\"},\"baxis\":{\"endlinecolor\":\"#2a3f5f\",\"gridcolor\":\"white\",\"linecolor\":\"white\",\"minorgridcolor\":\"white\",\"startlinecolor\":\"#2a3f5f\"},\"type\":\"carpet\"}],\"table\":[{\"cells\":{\"fill\":{\"color\":\"#EBF0F8\"},\"line\":{\"color\":\"white\"}},\"header\":{\"fill\":{\"color\":\"#C8D4E3\"},\"line\":{\"color\":\"white\"}},\"type\":\"table\"}],\"barpolar\":[{\"marker\":{\"line\":{\"color\":\"#E5ECF6\",\"width\":0.5},\"pattern\":{\"fillmode\":\"overlay\",\"size\":10,\"solidity\":0.2}},\"type\":\"barpolar\"}],\"pie\":[{\"automargin\":true,\"type\":\"pie\"}]},\"layout\":{\"autotypenumbers\":\"strict\",\"colorway\":[\"#636efa\",\"#EF553B\",\"#00cc96\",\"#ab63fa\",\"#FFA15A\",\"#19d3f3\",\"#FF6692\",\"#B6E880\",\"#FF97FF\",\"#FECB52\"],\"font\":{\"color\":\"#2a3f5f\"},\"hovermode\":\"closest\",\"hoverlabel\":{\"align\":\"left\"},\"paper_bgcolor\":\"white\",\"plot_bgcolor\":\"#E5ECF6\",\"polar\":{\"bgcolor\":\"#E5ECF6\",\"angularaxis\":{\"gridcolor\":\"white\",\"linecolor\":\"white\",\"ticks\":\"\"},\"radialaxis\":{\"gridcolor\":\"white\",\"linecolor\":\"white\",\"ticks\":\"\"}},\"ternary\":{\"bgcolor\":\"#E5ECF6\",\"aaxis\":{\"gridcolor\":\"white\",\"linecolor\":\"white\",\"ticks\":\"\"},\"baxis\":{\"gridcolor\":\"white\",\"linecolor\":\"white\",\"ticks\":\"\"},\"caxis\":{\"gridcolor\":\"white\",\"linecolor\":\"white\",\"ticks\":\"\"}},\"coloraxis\":{\"colorbar\":{\"outlinewidth\":0,\"ticks\":\"\"}},\"colorscale\":{\"sequential\":[[0.0,\"#0d0887\"],[0.1111111111111111,\"#46039f\"],[0.2222222222222222,\"#7201a8\"],[0.3333333333333333,\"#9c179e\"],[0.4444444444444444,\"#bd3786\"],[0.5555555555555556,\"#d8576b\"],[0.6666666666666666,\"#ed7953\"],[0.7777777777777778,\"#fb9f3a\"],[0.8888888888888888,\"#fdca26\"],[1.0,\"#f0f921\"]],\"sequentialminus\":[[0.0,\"#0d0887\"],[0.1111111111111111,\"#46039f\"],[0.2222222222222222,\"#7201a8\"],[0.3333333333333333,\"#9c179e\"],[0.4444444444444444,\"#bd3786\"],[0.5555555555555556,\"#d8576b\"],[0.6666666666666666,\"#ed7953\"],[0.7777777777777778,\"#fb9f3a\"],[0.8888888888888888,\"#fdca26\"],[1.0,\"#f0f921\"]],\"diverging\":[[0,\"#8e0152\"],[0.1,\"#c51b7d\"],[0.2,\"#de77ae\"],[0.3,\"#f1b6da\"],[0.4,\"#fde0ef\"],[0.5,\"#f7f7f7\"],[0.6,\"#e6f5d0\"],[0.7,\"#b8e186\"],[0.8,\"#7fbc41\"],[0.9,\"#4d9221\"],[1,\"#276419\"]]},\"xaxis\":{\"gridcolor\":\"white\",\"linecolor\":\"white\",\"ticks\":\"\",\"title\":{\"standoff\":15},\"zerolinecolor\":\"white\",\"automargin\":true,\"zerolinewidth\":2},\"yaxis\":{\"gridcolor\":\"white\",\"linecolor\":\"white\",\"ticks\":\"\",\"title\":{\"standoff\":15},\"zerolinecolor\":\"white\",\"automargin\":true,\"zerolinewidth\":2},\"scene\":{\"xaxis\":{\"backgroundcolor\":\"#E5ECF6\",\"gridcolor\":\"white\",\"linecolor\":\"white\",\"showbackground\":true,\"ticks\":\"\",\"zerolinecolor\":\"white\",\"gridwidth\":2},\"yaxis\":{\"backgroundcolor\":\"#E5ECF6\",\"gridcolor\":\"white\",\"linecolor\":\"white\",\"showbackground\":true,\"ticks\":\"\",\"zerolinecolor\":\"white\",\"gridwidth\":2},\"zaxis\":{\"backgroundcolor\":\"#E5ECF6\",\"gridcolor\":\"white\",\"linecolor\":\"white\",\"showbackground\":true,\"ticks\":\"\",\"zerolinecolor\":\"white\",\"gridwidth\":2}},\"shapedefaults\":{\"line\":{\"color\":\"#2a3f5f\"}},\"annotationdefaults\":{\"arrowcolor\":\"#2a3f5f\",\"arrowhead\":0,\"arrowwidth\":1},\"geo\":{\"bgcolor\":\"white\",\"landcolor\":\"#E5ECF6\",\"subunitcolor\":\"white\",\"showland\":true,\"showlakes\":true,\"lakecolor\":\"white\"},\"title\":{\"x\":0.05},\"mapbox\":{\"style\":\"light\"}}},\"xaxis\":{\"anchor\":\"y\",\"domain\":[0.0,1.0],\"scaleanchor\":\"y\",\"constrain\":\"domain\"},\"yaxis\":{\"anchor\":\"x\",\"domain\":[0.0,1.0],\"autorange\":\"reversed\",\"constrain\":\"domain\"},\"coloraxis\":{\"colorscale\":[[0.0,\"rgb(5,48,97)\"],[0.1,\"rgb(33,102,172)\"],[0.2,\"rgb(67,147,195)\"],[0.3,\"rgb(146,197,222)\"],[0.4,\"rgb(209,229,240)\"],[0.5,\"rgb(247,247,247)\"],[0.6,\"rgb(253,219,199)\"],[0.7,\"rgb(244,165,130)\"],[0.8,\"rgb(214,96,77)\"],[0.9,\"rgb(178,24,43)\"],[1.0,\"rgb(103,0,31)\"]],\"cmin\":-1,\"cmax\":1},\"title\":{\"text\":\"Pearson Correlation Properties\"}},                        {\"responsive\": true}                    ).then(function(){\n",
       "                            \n",
       "var gd = document.getElementById('aeed84ea-3e91-4f7a-8f2a-5b1aadf7f440');\n",
       "var x = new MutationObserver(function (mutations, observer) {{\n",
       "        var display = window.getComputedStyle(gd).display;\n",
       "        if (!display || display === 'none') {{\n",
       "            console.log([gd, 'removed!']);\n",
       "            Plotly.purge(gd);\n",
       "            observer.disconnect();\n",
       "        }}\n",
       "}});\n",
       "\n",
       "// Listen for the removal of the full notebook cells\n",
       "var notebookContainer = gd.closest('#notebook-container');\n",
       "if (notebookContainer) {{\n",
       "    x.observe(notebookContainer, {childList: true});\n",
       "}}\n",
       "\n",
       "// Listen for the clearing of the current output cell\n",
       "var outputEl = gd.closest('.output');\n",
       "if (outputEl) {{\n",
       "    x.observe(outputEl, {childList: true});\n",
       "}}\n",
       "\n",
       "                        })                };                });            </script>        </div>"
      ]
     },
     "metadata": {},
     "output_type": "display_data"
    }
   ],
   "source": [
    "# px.imshow(properties_correlation, text_auto=True, title=\"Pearson Correlation Properties\").update_xaxes(tickvals=properties_correlation.columns, ticktext=[f'X{i}' for i in properties_correlation.columns], tickmode=\"array\").show()\n",
    "px.imshow(properties_correlation, text_auto=True, title=\"Pearson Correlation Properties\", x=list(properties_correlation.columns), y=list(properties_correlation.columns), color_continuous_scale='RdBu_r', zmin=-1, zmax=1)"
   ]
  },
  {
   "cell_type": "code",
   "execution_count": 7,
   "metadata": {},
   "outputs": [
    {
     "data": {
      "text/html": [
       "<div><style>\n",
       ".dataframe > thead > tr > th,\n",
       ".dataframe > tbody > tr > td {\n",
       "  text-align: right;\n",
       "}\n",
       "</style>\n",
       "<small>shape: (1, 16)</small><table border=\"1\" class=\"dataframe\"><thead><tr><th>molregno</th><th>first_approval</th><th>mw_freebase</th><th>full_mwt</th><th>mw_monoisotopic</th><th>alogp</th><th>cx_logp</th><th>psa</th><th>hba</th><th>hbd</th><th>hba_lipinski</th><th>hbd_lipinski</th><th>aromatic_rings</th><th>rtb</th><th>heavy_atoms</th><th>num_lipinski_ro5_violations</th></tr><tr><td>f64</td><td>f64</td><td>f64</td><td>f64</td><td>f64</td><td>f64</td><td>f64</td><td>f64</td><td>f64</td><td>f64</td><td>f64</td><td>f64</td><td>f64</td><td>f64</td><td>f64</td><td>f64</td></tr></thead><tbody><tr><td>0.416864</td><td>1.0</td><td>0.277669</td><td>0.260776</td><td>0.27782</td><td>0.164147</td><td>0.132342</td><td>0.224966</td><td>0.257109</td><td>0.110726</td><td>0.266909</td><td>0.109087</td><td>0.326713</td><td>0.203606</td><td>0.303728</td><td>0.163375</td></tr></tbody></table></div>"
      ],
      "text/plain": [
       "shape: (1, 16)\n",
       "┌──────────┬────────────┬───────────┬──────────┬───┬────────────┬──────────┬───────────┬────────────┐\n",
       "│ molregno ┆ first_appr ┆ mw_freeba ┆ full_mwt ┆ … ┆ aromatic_r ┆ rtb      ┆ heavy_ato ┆ num_lipins │\n",
       "│ ---      ┆ oval       ┆ se        ┆ ---      ┆   ┆ ings       ┆ ---      ┆ ms        ┆ ki_ro5_vio │\n",
       "│ f64      ┆ ---        ┆ ---       ┆ f64      ┆   ┆ ---        ┆ f64      ┆ ---       ┆ lations    │\n",
       "│          ┆ f64        ┆ f64       ┆          ┆   ┆ f64        ┆          ┆ f64       ┆ ---        │\n",
       "│          ┆            ┆           ┆          ┆   ┆            ┆          ┆           ┆ f64        │\n",
       "╞══════════╪════════════╪═══════════╪══════════╪═══╪════════════╪══════════╪═══════════╪════════════╡\n",
       "│ 0.416864 ┆ 1.0        ┆ 0.277669  ┆ 0.260776 ┆ … ┆ 0.326713   ┆ 0.203606 ┆ 0.303728  ┆ 0.163375   │\n",
       "└──────────┴────────────┴───────────┴──────────┴───┴────────────┴──────────┴───────────┴────────────┘"
      ]
     },
     "execution_count": 7,
     "metadata": {},
     "output_type": "execute_result"
    }
   ],
   "source": [
    "funs.spearman_correlation(df, \"first_approval\")"
   ]
  },
  {
   "cell_type": "code",
   "execution_count": null,
   "metadata": {},
   "outputs": [],
   "source": []
  }
 ],
 "metadata": {
  "kernelspec": {
   "display_name": ".venv",
   "language": "python",
   "name": "python3"
  },
  "language_info": {
   "codemirror_mode": {
    "name": "ipython",
    "version": 3
   },
   "file_extension": ".py",
   "mimetype": "text/x-python",
   "name": "python",
   "nbconvert_exporter": "python",
   "pygments_lexer": "ipython3",
   "version": "3.10.6"
  },
  "orig_nbformat": 4
 },
 "nbformat": 4,
 "nbformat_minor": 2
}
