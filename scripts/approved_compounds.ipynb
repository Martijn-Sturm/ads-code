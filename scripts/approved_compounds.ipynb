{
 "cells": [
  {
   "cell_type": "code",
   "execution_count": 1,
   "metadata": {},
   "outputs": [
    {
     "name": "stdout",
     "output_type": "stream",
     "text": [
      "/home/martijn_sturm/repos/ads-code\n"
     ]
    },
    {
     "data": {
      "text/plain": [
       "'/home/martijn_sturm/repos/ads-code'"
      ]
     },
     "execution_count": 1,
     "metadata": {},
     "output_type": "execute_result"
    }
   ],
   "source": [
    "%cd \"..\"\n",
    "%pwd"
   ]
  },
  {
   "cell_type": "code",
   "execution_count": 2,
   "metadata": {},
   "outputs": [],
   "source": [
    "import polars\n",
    "from src import read, columns"
   ]
  },
  {
   "cell_type": "code",
   "execution_count": 3,
   "metadata": {},
   "outputs": [],
   "source": [
    "mol_info = read.read_csv(\"molecule_dictionary\")"
   ]
  },
  {
   "cell_type": "code",
   "execution_count": 4,
   "metadata": {},
   "outputs": [
    {
     "data": {
      "text/plain": [
       "2354965"
      ]
     },
     "execution_count": 4,
     "metadata": {},
     "output_type": "execute_result"
    }
   ],
   "source": [
    "n = len(mol_info)\n",
    "n"
   ]
  },
  {
   "cell_type": "code",
   "execution_count": 5,
   "metadata": {},
   "outputs": [
    {
     "data": {
      "text/plain": [
       "['molregno',\n",
       " 'pref_name',\n",
       " 'chembl_id',\n",
       " 'max_phase',\n",
       " 'therapeutic_flag',\n",
       " 'dosed_ingredient',\n",
       " 'structure_type',\n",
       " 'chebi_par_id',\n",
       " 'molecule_type',\n",
       " 'first_approval',\n",
       " 'oral',\n",
       " 'parenteral',\n",
       " 'topical',\n",
       " 'black_box_warning',\n",
       " 'first_in_class',\n",
       " 'chirality',\n",
       " 'prodrug',\n",
       " 'inorganic_flag',\n",
       " 'usan_year',\n",
       " 'availability_type',\n",
       " 'usan_stem',\n",
       " 'polymer_flag',\n",
       " 'usan_substem',\n",
       " 'usan_stem_definition',\n",
       " 'indication_class',\n",
       " 'withdrawn_flag']"
      ]
     },
     "execution_count": 5,
     "metadata": {},
     "output_type": "execute_result"
    }
   ],
   "source": [
    "mol_info.columns"
   ]
  },
  {
   "attachments": {},
   "cell_type": "markdown",
   "metadata": {},
   "source": [
    "## Approved compounds\n",
    "\n",
    "To select approved compounds, the 'max_phase' value must be '4'"
   ]
  },
  {
   "cell_type": "code",
   "execution_count": 6,
   "metadata": {},
   "outputs": [
    {
     "data": {
      "text/plain": [
       "2351748"
      ]
     },
     "execution_count": 6,
     "metadata": {},
     "output_type": "execute_result"
    }
   ],
   "source": [
    "n_not_approved = mol_info.select(\"first_approval\").null_count()[\"first_approval\"][0]\n",
    "n_not_approved"
   ]
  },
  {
   "cell_type": "code",
   "execution_count": 7,
   "metadata": {},
   "outputs": [
    {
     "data": {
      "text/plain": [
       "3217"
      ]
     },
     "execution_count": 7,
     "metadata": {},
     "output_type": "execute_result"
    }
   ],
   "source": [
    "n_approved = n - n_not_approved\n",
    "n_approved"
   ]
  },
  {
   "cell_type": "code",
   "execution_count": 8,
   "metadata": {},
   "outputs": [
    {
     "data": {
      "text/plain": [
       "3217"
      ]
     },
     "execution_count": 8,
     "metadata": {},
     "output_type": "execute_result"
    }
   ],
   "source": [
    "approved_molecules = mol_info.filter(polars.col(\"first_approval\").is_not_null())\n",
    "len(approved_molecules)"
   ]
  },
  {
   "attachments": {},
   "cell_type": "markdown",
   "metadata": {},
   "source": [
    "We will write the keys of the molecules that are approved to a text file. So we can reuse that."
   ]
  },
  {
   "cell_type": "code",
   "execution_count": 9,
   "metadata": {},
   "outputs": [],
   "source": [
    "approved_mol_primary_keys = approved_molecules.get_column(\"molregno\").to_list()\n",
    "with open(\"data/approved_mol_primary_keys.txt\", \"w\") as file:\n",
    "    file.writelines([f\"{mol}\\n\" for mol in approved_mol_primary_keys])"
   ]
  },
  {
   "attachments": {},
   "cell_type": "markdown",
   "metadata": {},
   "source": [
    "Distribution of approved compounds per year"
   ]
  },
  {
   "cell_type": "code",
   "execution_count": 10,
   "metadata": {},
   "outputs": [
    {
     "data": {
      "text/html": [
       "<div><style>\n",
       ".dataframe > thead > tr > th,\n",
       ".dataframe > tbody > tr > td {\n",
       "  text-align: right;\n",
       "}\n",
       "</style>\n",
       "<small>shape: (84, 2)</small><table border=\"1\" class=\"dataframe\"><thead><tr><th>first_approval</th><th>counts</th></tr><tr><td>i64</td><td>u32</td></tr></thead><tbody><tr><td>1939</td><td>9</td></tr><tr><td>1940</td><td>2</td></tr><tr><td>1941</td><td>3</td></tr><tr><td>1942</td><td>3</td></tr><tr><td>1943</td><td>5</td></tr><tr><td>1944</td><td>1</td></tr><tr><td>1945</td><td>6</td></tr><tr><td>1946</td><td>13</td></tr><tr><td>1947</td><td>6</td></tr><tr><td>1948</td><td>15</td></tr><tr><td>1949</td><td>11</td></tr><tr><td>1950</td><td>26</td></tr><tr><td>&hellip;</td><td>&hellip;</td></tr><tr><td>2011</td><td>42</td></tr><tr><td>2012</td><td>46</td></tr><tr><td>2013</td><td>45</td></tr><tr><td>2014</td><td>61</td></tr><tr><td>2015</td><td>70</td></tr><tr><td>2016</td><td>35</td></tr><tr><td>2017</td><td>66</td></tr><tr><td>2018</td><td>84</td></tr><tr><td>2019</td><td>65</td></tr><tr><td>2020</td><td>81</td></tr><tr><td>2021</td><td>72</td></tr><tr><td>2022</td><td>40</td></tr></tbody></table></div>"
      ],
      "text/plain": [
       "shape: (84, 2)\n",
       "┌────────────────┬────────┐\n",
       "│ first_approval ┆ counts │\n",
       "│ ---            ┆ ---    │\n",
       "│ i64            ┆ u32    │\n",
       "╞════════════════╪════════╡\n",
       "│ 1939           ┆ 9      │\n",
       "│ 1940           ┆ 2      │\n",
       "│ 1941           ┆ 3      │\n",
       "│ 1942           ┆ 3      │\n",
       "│ …              ┆ …      │\n",
       "│ 2019           ┆ 65     │\n",
       "│ 2020           ┆ 81     │\n",
       "│ 2021           ┆ 72     │\n",
       "│ 2022           ┆ 40     │\n",
       "└────────────────┴────────┘"
      ]
     },
     "execution_count": 10,
     "metadata": {},
     "output_type": "execute_result"
    }
   ],
   "source": [
    "approved_molecules.get_column(\"first_approval\").sort().value_counts(sort=False)"
   ]
  },
  {
   "attachments": {},
   "cell_type": "markdown",
   "metadata": {},
   "source": [
    "## Create approved compound properties dataset"
   ]
  },
  {
   "cell_type": "code",
   "execution_count": 11,
   "metadata": {},
   "outputs": [
    {
     "data": {
      "text/plain": [
       "polars.dataframe.frame.DataFrame"
      ]
     },
     "execution_count": 11,
     "metadata": {},
     "output_type": "execute_result"
    }
   ],
   "source": [
    "columns.properties_table\n",
    "properties = read.read_csv(\"compound_properties\").select([\"molregno\", *columns.properties_table])\n",
    "type(properties)"
   ]
  },
  {
   "cell_type": "code",
   "execution_count": 12,
   "metadata": {},
   "outputs": [
    {
     "data": {
      "text/plain": [
       "['molregno',\n",
       " 'first_approval',\n",
       " 'mw_freebase',\n",
       " 'full_mwt',\n",
       " 'mw_monoisotopic',\n",
       " 'alogp',\n",
       " 'cx_logp',\n",
       " 'psa',\n",
       " 'hba',\n",
       " 'hbd',\n",
       " 'hba_lipinski',\n",
       " 'hbd_lipinski',\n",
       " 'aromatic_rings',\n",
       " 'rtb',\n",
       " 'heavy_atoms',\n",
       " 'num_lipinski_ro5_violations']"
      ]
     },
     "execution_count": 12,
     "metadata": {},
     "output_type": "execute_result"
    }
   ],
   "source": [
    "approved_properties = approved_molecules.select([\"molregno\", \"first_approval\"]).join(properties, on=\"molregno\", how=\"left\")\n",
    "approved_properties.columns"
   ]
  },
  {
   "cell_type": "code",
   "execution_count": 13,
   "metadata": {},
   "outputs": [
    {
     "data": {
      "text/plain": [
       "3217"
      ]
     },
     "execution_count": 13,
     "metadata": {},
     "output_type": "execute_result"
    }
   ],
   "source": [
    "len(approved_properties)"
   ]
  },
  {
   "cell_type": "code",
   "execution_count": 14,
   "metadata": {},
   "outputs": [
    {
     "data": {
      "text/html": [
       "<div><style>\n",
       ".dataframe > thead > tr > th,\n",
       ".dataframe > tbody > tr > td {\n",
       "  text-align: right;\n",
       "}\n",
       "</style>\n",
       "<small>shape: (5, 16)</small><table border=\"1\" class=\"dataframe\"><thead><tr><th>molregno</th><th>first_approval</th><th>mw_freebase</th><th>full_mwt</th><th>mw_monoisotopic</th><th>alogp</th><th>cx_logp</th><th>psa</th><th>hba</th><th>hbd</th><th>hba_lipinski</th><th>hbd_lipinski</th><th>aromatic_rings</th><th>rtb</th><th>heavy_atoms</th><th>num_lipinski_ro5_violations</th></tr><tr><td>i64</td><td>i64</td><td>f64</td><td>f64</td><td>f64</td><td>f64</td><td>f64</td><td>f64</td><td>i64</td><td>i64</td><td>i64</td><td>i64</td><td>i64</td><td>i64</td><td>i64</td><td>i64</td></tr></thead><tbody><tr><td>97</td><td>1976</td><td>383.41</td><td>383.41</td><td>383.1594</td><td>1.78</td><td>1.65</td><td>106.95</td><td>8</td><td>1</td><td>9</td><td>2</td><td>3</td><td>4</td><td>28</td><td>0</td></tr><tr><td>115</td><td>1984</td><td>162.24</td><td>162.24</td><td>162.1157</td><td>1.85</td><td>1.16</td><td>16.13</td><td>2</td><td>0</td><td>2</td><td>0</td><td>1</td><td>1</td><td>12</td><td>0</td></tr><tr><td>146</td><td>1990</td><td>361.37</td><td>361.37</td><td>361.1438</td><td>1.54</td><td>0.51</td><td>75.01</td><td>6</td><td>1</td><td>7</td><td>1</td><td>2</td><td>2</td><td>26</td><td>0</td></tr><tr><td>147</td><td>1964</td><td>232.24</td><td>232.24</td><td>232.0848</td><td>1.42</td><td>0.79</td><td>72.19</td><td>4</td><td>1</td><td>5</td><td>1</td><td>2</td><td>2</td><td>17</td><td>0</td></tr><tr><td>173</td><td>1965</td><td>357.79</td><td>357.79</td><td>357.0768</td><td>3.93</td><td>3.53</td><td>68.53</td><td>4</td><td>1</td><td>5</td><td>1</td><td>3</td><td>4</td><td>25</td><td>0</td></tr></tbody></table></div>"
      ],
      "text/plain": [
       "shape: (5, 16)\n",
       "┌──────────┬────────────┬───────────┬──────────┬───┬────────────┬─────┬───────────────┬────────────┐\n",
       "│ molregno ┆ first_appr ┆ mw_freeba ┆ full_mwt ┆ … ┆ aromatic_r ┆ rtb ┆ heavy_atoms   ┆ num_lipins │\n",
       "│ ---      ┆ oval       ┆ se        ┆ ---      ┆   ┆ ings       ┆ --- ┆ ---           ┆ ki_ro5_vio │\n",
       "│ i64      ┆ ---        ┆ ---       ┆ f64      ┆   ┆ ---        ┆ i64 ┆ i64           ┆ lations    │\n",
       "│          ┆ i64        ┆ f64       ┆          ┆   ┆ i64        ┆     ┆               ┆ ---        │\n",
       "│          ┆            ┆           ┆          ┆   ┆            ┆     ┆               ┆ i64        │\n",
       "╞══════════╪════════════╪═══════════╪══════════╪═══╪════════════╪═════╪═══════════════╪════════════╡\n",
       "│ 97       ┆ 1976       ┆ 383.41    ┆ 383.41   ┆ … ┆ 3          ┆ 4   ┆ 28            ┆ 0          │\n",
       "│ 115      ┆ 1984       ┆ 162.24    ┆ 162.24   ┆ … ┆ 1          ┆ 1   ┆ 12            ┆ 0          │\n",
       "│ 146      ┆ 1990       ┆ 361.37    ┆ 361.37   ┆ … ┆ 2          ┆ 2   ┆ 26            ┆ 0          │\n",
       "│ 147      ┆ 1964       ┆ 232.24    ┆ 232.24   ┆ … ┆ 2          ┆ 2   ┆ 17            ┆ 0          │\n",
       "│ 173      ┆ 1965       ┆ 357.79    ┆ 357.79   ┆ … ┆ 3          ┆ 4   ┆ 25            ┆ 0          │\n",
       "└──────────┴────────────┴───────────┴──────────┴───┴────────────┴─────┴───────────────┴────────────┘"
      ]
     },
     "execution_count": 14,
     "metadata": {},
     "output_type": "execute_result"
    }
   ],
   "source": [
    "approved_properties.head()"
   ]
  },
  {
   "cell_type": "code",
   "execution_count": 18,
   "metadata": {},
   "outputs": [
    {
     "data": {
      "text/html": [
       "<div><style>\n",
       ".dataframe > thead > tr > th,\n",
       ".dataframe > tbody > tr > td {\n",
       "  text-align: right;\n",
       "}\n",
       "</style>\n",
       "<small>shape: (1, 16)</small><table border=\"1\" class=\"dataframe\"><thead><tr><th>molregno</th><th>first_approval</th><th>mw_freebase</th><th>full_mwt</th><th>mw_monoisotopic</th><th>alogp</th><th>cx_logp</th><th>psa</th><th>hba</th><th>hbd</th><th>hba_lipinski</th><th>hbd_lipinski</th><th>aromatic_rings</th><th>rtb</th><th>heavy_atoms</th><th>num_lipinski_ro5_violations</th></tr><tr><td>u32</td><td>u32</td><td>u32</td><td>u32</td><td>u32</td><td>u32</td><td>u32</td><td>u32</td><td>u32</td><td>u32</td><td>u32</td><td>u32</td><td>u32</td><td>u32</td><td>u32</td><td>u32</td></tr></thead><tbody><tr><td>0</td><td>0</td><td>391</td><td>391</td><td>391</td><td>707</td><td>707</td><td>707</td><td>707</td><td>707</td><td>707</td><td>707</td><td>707</td><td>707</td><td>707</td><td>707</td></tr></tbody></table></div>"
      ],
      "text/plain": [
       "shape: (1, 16)\n",
       "┌──────────┬────────────┬───────────┬──────────┬───┬────────────┬─────┬───────────────┬────────────┐\n",
       "│ molregno ┆ first_appr ┆ mw_freeba ┆ full_mwt ┆ … ┆ aromatic_r ┆ rtb ┆ heavy_atoms   ┆ num_lipins │\n",
       "│ ---      ┆ oval       ┆ se        ┆ ---      ┆   ┆ ings       ┆ --- ┆ ---           ┆ ki_ro5_vio │\n",
       "│ u32      ┆ ---        ┆ ---       ┆ u32      ┆   ┆ ---        ┆ u32 ┆ u32           ┆ lations    │\n",
       "│          ┆ u32        ┆ u32       ┆          ┆   ┆ u32        ┆     ┆               ┆ ---        │\n",
       "│          ┆            ┆           ┆          ┆   ┆            ┆     ┆               ┆ u32        │\n",
       "╞══════════╪════════════╪═══════════╪══════════╪═══╪════════════╪═════╪═══════════════╪════════════╡\n",
       "│ 0        ┆ 0          ┆ 391       ┆ 391      ┆ … ┆ 707        ┆ 707 ┆ 707           ┆ 707        │\n",
       "└──────────┴────────────┴───────────┴──────────┴───┴────────────┴─────┴───────────────┴────────────┘"
      ]
     },
     "execution_count": 18,
     "metadata": {},
     "output_type": "execute_result"
    }
   ],
   "source": [
    "approved_properties.null_count()"
   ]
  },
  {
   "cell_type": "code",
   "execution_count": 15,
   "metadata": {},
   "outputs": [],
   "source": [
    "approved_properties.write_parquet(\"data/approved_properties.parquet\")"
   ]
  },
  {
   "attachments": {},
   "cell_type": "markdown",
   "metadata": {},
   "source": [
    "## Analysis"
   ]
  },
  {
   "cell_type": "code",
   "execution_count": 19,
   "metadata": {},
   "outputs": [],
   "source": [
    "df = approved_properties.drop(\"molregno\").drop_nulls()"
   ]
  },
  {
   "cell_type": "code",
   "execution_count": 21,
   "metadata": {},
   "outputs": [
    {
     "ename": "TypeError",
     "evalue": "corrcoef() got an unexpected keyword argument 'method'",
     "output_type": "error",
     "traceback": [
      "\u001b[0;31m---------------------------------------------------------------------------\u001b[0m",
      "\u001b[0;31mTypeError\u001b[0m                                 Traceback (most recent call last)",
      "Cell \u001b[0;32mIn[21], line 4\u001b[0m\n\u001b[1;32m      1\u001b[0m target_col \u001b[39m=\u001b[39m \u001b[39m'\u001b[39m\u001b[39mfirst_approval\u001b[39m\u001b[39m'\u001b[39m\n\u001b[1;32m      2\u001b[0m feature_cols \u001b[39m=\u001b[39m \u001b[39mset\u001b[39m(df\u001b[39m.\u001b[39mcolumns) \u001b[39m-\u001b[39m \u001b[39mset\u001b[39m([target_col])\n\u001b[0;32m----> 4\u001b[0m df\u001b[39m.\u001b[39;49mcorr(method\u001b[39m=\u001b[39;49m\u001b[39m\"\u001b[39;49m\u001b[39mspearman\u001b[39;49m\u001b[39m\"\u001b[39;49m)\n",
      "File \u001b[0;32m~/repos/ads-code/.venv/lib/python3.10/site-packages/polars/dataframe/frame.py:8442\u001b[0m, in \u001b[0;36mDataFrame.corr\u001b[0;34m(self, **kwargs)\u001b[0m\n\u001b[1;32m   8408\u001b[0m \u001b[39m@typing\u001b[39m\u001b[39m.\u001b[39mno_type_check\n\u001b[1;32m   8409\u001b[0m \u001b[39mdef\u001b[39;00m \u001b[39mcorr\u001b[39m(\u001b[39mself\u001b[39m, \u001b[39m*\u001b[39m\u001b[39m*\u001b[39mkwargs: Any) \u001b[39m-\u001b[39m\u001b[39m>\u001b[39m Self:\n\u001b[1;32m   8410\u001b[0m \u001b[39m    \u001b[39m\u001b[39m\"\"\"\u001b[39;00m\n\u001b[1;32m   8411\u001b[0m \u001b[39m    Return Pearson product-moment correlation coefficients.\u001b[39;00m\n\u001b[1;32m   8412\u001b[0m \n\u001b[0;32m   (...)\u001b[0m\n\u001b[1;32m   8439\u001b[0m \n\u001b[1;32m   8440\u001b[0m \u001b[39m    \"\"\"\u001b[39;00m\n\u001b[1;32m   8441\u001b[0m     \u001b[39mreturn\u001b[39;00m \u001b[39mself\u001b[39m\u001b[39m.\u001b[39m_from_pydf(\n\u001b[0;32m-> 8442\u001b[0m         DataFrame(np\u001b[39m.\u001b[39;49mcorrcoef(\u001b[39mself\u001b[39;49m\u001b[39m.\u001b[39;49mto_numpy()\u001b[39m.\u001b[39;49mT, \u001b[39m*\u001b[39;49m\u001b[39m*\u001b[39;49mkwargs), schema\u001b[39m=\u001b[39m\u001b[39mself\u001b[39m\u001b[39m.\u001b[39mcolumns)\u001b[39m.\u001b[39m_df\n\u001b[1;32m   8443\u001b[0m     )\n",
      "File \u001b[0;32m<__array_function__ internals>:198\u001b[0m, in \u001b[0;36mcorrcoef\u001b[0;34m(*args, **kwargs)\u001b[0m\n",
      "\u001b[0;31mTypeError\u001b[0m: corrcoef() got an unexpected keyword argument 'method'"
     ]
    }
   ],
   "source": [
    "target_col = 'first_approval'\n",
    "feature_cols = set(df.columns) - set([target_col])\n",
    "\n"
   ]
  }
 ],
 "metadata": {
  "kernelspec": {
   "display_name": ".venv",
   "language": "python",
   "name": "python3"
  },
  "language_info": {
   "codemirror_mode": {
    "name": "ipython",
    "version": 3
   },
   "file_extension": ".py",
   "mimetype": "text/x-python",
   "name": "python",
   "nbconvert_exporter": "python",
   "pygments_lexer": "ipython3",
   "version": "3.10.6"
  },
  "orig_nbformat": 4
 },
 "nbformat": 4,
 "nbformat_minor": 2
}
