{
 "cells": [
  {
   "cell_type": "code",
   "execution_count": 1,
   "metadata": {},
   "outputs": [
    {
     "name": "stdout",
     "output_type": "stream",
     "text": [
      "/home/martijn_sturm/repos/ads-code\n"
     ]
    },
    {
     "data": {
      "text/plain": [
       "'/home/martijn_sturm/repos/ads-code'"
      ]
     },
     "execution_count": 1,
     "metadata": {},
     "output_type": "execute_result"
    }
   ],
   "source": [
    "%cd \"..\"\n",
    "%pwd"
   ]
  },
  {
   "cell_type": "code",
   "execution_count": 2,
   "metadata": {},
   "outputs": [],
   "source": [
    "import polars as pl\n",
    "from sklearn.preprocessing import StandardScaler\n",
    "from sklearn.linear_model import LogisticRegression\n",
    "from src import columns, read\n"
   ]
  },
  {
   "cell_type": "code",
   "execution_count": 7,
   "metadata": {},
   "outputs": [
    {
     "data": {
      "text/html": [
       "<div><style>\n",
       ".dataframe > thead > tr > th,\n",
       ".dataframe > tbody > tr > td {\n",
       "  text-align: right;\n",
       "}\n",
       "</style>\n",
       "<small>shape: (2, 2)</small><table border=\"1\" class=\"dataframe\"><thead><tr><th>approved</th><th>count</th></tr><tr><td>bool</td><td>u32</td></tr></thead><tbody><tr><td>true</td><td>3217</td></tr><tr><td>false</td><td>2351748</td></tr></tbody></table></div>"
      ],
      "text/plain": [
       "shape: (2, 2)\n",
       "┌──────────┬─────────┐\n",
       "│ approved ┆ count   │\n",
       "│ ---      ┆ ---     │\n",
       "│ bool     ┆ u32     │\n",
       "╞══════════╪═════════╡\n",
       "│ true     ┆ 3217    │\n",
       "│ false    ┆ 2351748 │\n",
       "└──────────┴─────────┘"
      ]
     },
     "execution_count": 7,
     "metadata": {},
     "output_type": "execute_result"
    }
   ],
   "source": [
    "mol_info = read.read_csv(\"molecule_dictionary\")\n",
    "approved_binary = mol_info.select(\"molregno\", \"first_approval\").with_columns(pl.when(pl.col(\"first_approval\").is_null()).then(False).otherwise(True).alias(\"approved\")).drop(\"first_approval\")\n",
    "approved_binary.groupby(\"approved\").count()\n"
   ]
  },
  {
   "cell_type": "code",
   "execution_count": 8,
   "metadata": {},
   "outputs": [],
   "source": [
    "properties = read.read_csv(\"compound_properties\").select([\"molregno\", *columns.properties_table])"
   ]
  },
  {
   "cell_type": "code",
   "execution_count": 9,
   "metadata": {},
   "outputs": [
    {
     "data": {
      "text/plain": [
       "['approved',\n",
       " 'mw_freebase',\n",
       " 'full_mwt',\n",
       " 'mw_monoisotopic',\n",
       " 'alogp',\n",
       " 'cx_logp',\n",
       " 'psa',\n",
       " 'hba',\n",
       " 'hbd',\n",
       " 'hba_lipinski',\n",
       " 'hbd_lipinski',\n",
       " 'aromatic_rings',\n",
       " 'rtb',\n",
       " 'heavy_atoms',\n",
       " 'num_lipinski_ro5_violations']"
      ]
     },
     "execution_count": 9,
     "metadata": {},
     "output_type": "execute_result"
    }
   ],
   "source": [
    "df = approved_binary.join(properties, on=\"molregno\").drop(\"molregno\")\n",
    "df.columns"
   ]
  }
 ],
 "metadata": {
  "kernelspec": {
   "display_name": ".venv",
   "language": "python",
   "name": "python3"
  },
  "language_info": {
   "codemirror_mode": {
    "name": "ipython",
    "version": 3
   },
   "file_extension": ".py",
   "mimetype": "text/x-python",
   "name": "python",
   "nbconvert_exporter": "python",
   "pygments_lexer": "ipython3",
   "version": "3.10.6"
  },
  "orig_nbformat": 4
 },
 "nbformat": 4,
 "nbformat_minor": 2
}
