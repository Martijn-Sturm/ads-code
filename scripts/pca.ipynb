{
 "cells": [
  {
   "cell_type": "code",
   "execution_count": 1,
   "metadata": {},
   "outputs": [
    {
     "name": "stdout",
     "output_type": "stream",
     "text": [
      "/home/martijn_sturm/repos/ads-code\n"
     ]
    },
    {
     "data": {
      "text/plain": [
       "'/home/martijn_sturm/repos/ads-code'"
      ]
     },
     "execution_count": 1,
     "metadata": {},
     "output_type": "execute_result"
    }
   ],
   "source": [
    "%cd \"..\"\n",
    "%pwd"
   ]
  },
  {
   "cell_type": "code",
   "execution_count": 7,
   "metadata": {},
   "outputs": [],
   "source": [
    "import polars as pl\n",
    "from sklearn.preprocessing import StandardScaler\n",
    "from sklearn.decomposition import PCA\n",
    "from src import columns\n"
   ]
  },
  {
   "cell_type": "code",
   "execution_count": 3,
   "metadata": {},
   "outputs": [
    {
     "data": {
      "text/plain": [
       "['molregno',\n",
       " 'first_approval',\n",
       " 'mw_freebase',\n",
       " 'full_mwt',\n",
       " 'mw_monoisotopic',\n",
       " 'alogp',\n",
       " 'cx_logp',\n",
       " 'psa',\n",
       " 'hba',\n",
       " 'hbd',\n",
       " 'hba_lipinski',\n",
       " 'hbd_lipinski',\n",
       " 'aromatic_rings',\n",
       " 'rtb',\n",
       " 'heavy_atoms',\n",
       " 'num_lipinski_ro5_violations']"
      ]
     },
     "execution_count": 3,
     "metadata": {},
     "output_type": "execute_result"
    }
   ],
   "source": [
    "df = pl.read_parquet(\"data/approved_properties.parquet\")\n",
    "df.columns"
   ]
  },
  {
   "cell_type": "code",
   "execution_count": 8,
   "metadata": {},
   "outputs": [],
   "source": [
    "standardizer = StandardScaler()\n",
    "standardized = standardizer.fit_transform(df.select(columns.properties_table).drop_nulls().to_numpy())"
   ]
  },
  {
   "cell_type": "code",
   "execution_count": 9,
   "metadata": {},
   "outputs": [
    {
     "name": "stdout",
     "output_type": "stream",
     "text": [
      "[5.19014577e-01 2.62787769e-01 5.46165155e-02 4.45885976e-02\n",
      " 4.08956928e-02 2.48800865e-02 2.36486360e-02 1.36758293e-02\n",
      " 5.18858803e-03 4.87897758e-03 2.94310590e-03 2.01444950e-03\n",
      " 8.67061579e-04 1.13497089e-07]\n"
     ]
    }
   ],
   "source": [
    "pca = PCA()\n",
    "pca.fit(standardized)\n",
    "print(pca.explained_variance_ratio_)"
   ]
  },
  {
   "cell_type": "code",
   "execution_count": null,
   "metadata": {},
   "outputs": [],
   "source": []
  }
 ],
 "metadata": {
  "kernelspec": {
   "display_name": ".venv",
   "language": "python",
   "name": "python3"
  },
  "language_info": {
   "codemirror_mode": {
    "name": "ipython",
    "version": 3
   },
   "file_extension": ".py",
   "mimetype": "text/x-python",
   "name": "python",
   "nbconvert_exporter": "python",
   "pygments_lexer": "ipython3",
   "version": "3.10.6"
  },
  "orig_nbformat": 4
 },
 "nbformat": 4,
 "nbformat_minor": 2
}
